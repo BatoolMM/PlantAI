{
  "nbformat": 4,
  "nbformat_minor": 0,
  "metadata": {
    "colab": {
      "name": "Streamlit app.ipynb",
      "provenance": [],
      "toc_visible": true,
      "authorship_tag": "ABX9TyNyGQswlhpXFn9y0G52ApEc",
      "include_colab_link": true
    },
    "kernelspec": {
      "name": "python3",
      "display_name": "Python 3"
    }
  },
  "cells": [
    {
      "cell_type": "markdown",
      "metadata": {
        "id": "view-in-github",
        "colab_type": "text"
      },
      "source": [
        "<a href=\"https://colab.research.google.com/github/BatoolMM/PlantAI/blob/master/Streamlit_app.ipynb\" target=\"_parent\"><img src=\"https://colab.research.google.com/assets/colab-badge.svg\" alt=\"Open In Colab\"/></a>"
      ]
    },
    {
      "cell_type": "code",
      "metadata": {
        "id": "nEL0Iz24PW7o",
        "colab_type": "code",
        "colab": {}
      },
      "source": [
        "!pip install -U ipykernel \n",
        "!pip install -q streamlit\n",
        "!pip install pyngrok \n",
        "!ngrok authtoken 1hvRf0LvwuAI0SoCfB5J0Cnz02c_qY8Pfk5HRkxqgZ8UFHdg\n",
        "!pip install -Uqq fastbook\n",
        "!pip install fastcore==1.0.9\n",
        "!pip install utils\n",
        "!pip install virtualbox"
      ],
      "execution_count": null,
      "outputs": []
    },
    {
      "cell_type": "code",
      "metadata": {
        "id": "nh9gO8YKb4jV",
        "colab_type": "code",
        "colab": {}
      },
      "source": [
        "from google.colab import drive\n",
        "from fastai.vision.all import *\n",
        "from fastai.vision.widgets import *\n",
        "from IPython.display import Image\n",
        "import virtualbox\n",
        "from ipywidgets import * \n",
        "from PIL import Image\n",
        "import streamlit as st"
      ],
      "execution_count": 21,
      "outputs": []
    },
    {
      "cell_type": "code",
      "metadata": {
        "id": "I7WERKSKb40x",
        "colab_type": "code",
        "colab": {
          "base_uri": "https://localhost:8080/",
          "height": 54
        },
        "outputId": "2a179aa0-dacb-42d3-fcb6-6afdabd525c6"
      },
      "source": [
        "drive.mount('/content/drive')"
      ],
      "execution_count": 18,
      "outputs": [
        {
          "output_type": "stream",
          "text": [
            "Drive already mounted at /content/drive; to attempt to forcibly remount, call drive.mount(\"/content/drive\", force_remount=True).\n"
          ],
          "name": "stdout"
        }
      ]
    },
    {
      "cell_type": "code",
      "metadata": {
        "id": "fGTklmPIb48m",
        "colab_type": "code",
        "colab": {}
      },
      "source": [
        "path = Path()\n",
        "model = load_learner('export.pkl')"
      ],
      "execution_count": null,
      "outputs": []
    },
    {
      "cell_type": "code",
      "metadata": {
        "id": "AFk7kyLob5AO",
        "colab_type": "code",
        "colab": {}
      },
      "source": [
        "st.title('PlabtAI')\n",
        "st.write('''\n",
        "  ## Which Plant is This?\n",
        "  ### This is simple Web application to classify the type of the plants I have in my home and provide instruction of taking care of it.\n",
        "  ### Ask me anything!  \n",
        "''')"
      ],
      "execution_count": null,
      "outputs": []
    },
    {
      "cell_type": "code",
      "metadata": {
        "id": "Pu3VDanTb5Hv",
        "colab_type": "code",
        "colab": {}
      },
      "source": [
        "Upload = st.file_uploader('Ask me about any plant you have?', type=['png','jpg'])\n"
      ],
      "execution_count": null,
      "outputs": []
    },
    {
      "cell_type": "code",
      "metadata": {
        "id": "7u4bb_FRb5FL",
        "colab_type": "code",
        "colab": {}
      },
      "source": [
        ""
      ],
      "execution_count": null,
      "outputs": []
    }
  ]
}