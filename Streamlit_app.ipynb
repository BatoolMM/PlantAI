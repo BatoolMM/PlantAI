{
  "nbformat": 4,
  "nbformat_minor": 0,
  "metadata": {
    "colab": {
      "name": "Streamlit app.ipynb",
      "provenance": [],
      "authorship_tag": "ABX9TyNbmdo5S4XjCW3yxtTrIG2q",
      "include_colab_link": true
    },
    "kernelspec": {
      "name": "python3",
      "display_name": "Python 3"
    },
    "accelerator": "GPU"
  },
  "cells": [
    {
      "cell_type": "markdown",
      "metadata": {
        "id": "view-in-github",
        "colab_type": "text"
      },
      "source": [
        "<a href=\"https://colab.research.google.com/github/BatoolMM/PlantAI/blob/master/Streamlit_app.ipynb\" target=\"_parent\"><img src=\"https://colab.research.google.com/assets/colab-badge.svg\" alt=\"Open In Colab\"/></a>"
      ]
    },
    {
      "cell_type": "code",
      "metadata": {
        "id": "nEL0Iz24PW7o",
        "colab_type": "code",
        "colab": {}
      },
      "source": [
        "!pip install -U ipykernel==5.1.2\n",
        "!pip install pyngrok \n",
        "!ngrok authtoken 1hvRf0LvwuAI0SoCfB5J0Cnz02c_qY8Pfk5HRkxqgZ8UFHdg\n",
        "!pip install -Uqq fastbook\n",
        "!pip install fastcore==1.0.9\n",
        "!pip install utils\n",
        "!pip install virtualbox\n",
        "!pip install -q streamlit"
      ],
      "execution_count": null,
      "outputs": []
    },
    {
      "cell_type": "code",
      "metadata": {
        "id": "nh9gO8YKb4jV",
        "colab_type": "code",
        "colab": {
          "base_uri": "https://localhost:8080/",
          "height": 34
        },
        "outputId": "9093716a-e3a0-426e-e358-b486b87ab472"
      },
      "source": [
        "%%writefile stramlit_app.py"
      ],
      "execution_count": 7,
      "outputs": [
        {
          "output_type": "stream",
          "text": [
            "UsageError: %%writefile is a cell magic, but the cell body is empty.\n"
          ],
          "name": "stderr"
        }
      ]
    },
    {
      "cell_type": "code",
      "metadata": {
        "id": "I7WERKSKb40x",
        "colab_type": "code",
        "colab": {}
      },
      "source": [
        "from google.colab import drive\n",
        "from fastai.vision.all import *\n",
        "from fastai.vision.widgets import *\n",
        "from IPython.display import Image\n",
        "import virtualbox\n",
        "from ipywidgets import * \n",
        "from PIL import Image\n",
        "import streamlit as st\n",
        "from pyngrok import ngrok"
      ],
      "execution_count": 8,
      "outputs": []
    },
    {
      "cell_type": "code",
      "metadata": {
        "id": "zBNrAlFQzs1D",
        "colab_type": "code",
        "colab": {}
      },
      "source": [
        "drive.mount('/content/drive')"
      ],
      "execution_count": null,
      "outputs": []
    },
    {
      "cell_type": "code",
      "metadata": {
        "id": "fGTklmPIb48m",
        "colab_type": "code",
        "colab": {}
      },
      "source": [
        "path = Path()\n",
        "model = load_learner('/content/export.pkl')"
      ],
      "execution_count": 4,
      "outputs": []
    },
    {
      "cell_type": "code",
      "metadata": {
        "id": "AFk7kyLob5AO",
        "colab_type": "code",
        "colab": {}
      },
      "source": [
        "st.title('PlabtAI')\n",
        "st.write('''\n",
        "  ## Which Plant is This?\n",
        "  ### This is simple Web application to classify the type of the plants I have in my home and provide instruction of taking care of it.\n",
        "  ### Ask me anything!  \n",
        "''')"
      ],
      "execution_count": 5,
      "outputs": []
    },
    {
      "cell_type": "code",
      "metadata": {
        "id": "Pu3VDanTb5Hv",
        "colab_type": "code",
        "colab": {}
      },
      "source": [
        "Uploaded = st.file_uploader('Ask me about any plant you have?', type=['png','jpg'])\n"
      ],
      "execution_count": 6,
      "outputs": []
    },
    {
      "cell_type": "code",
      "metadata": {
        "id": "7u4bb_FRb5FL",
        "colab_type": "code",
        "colab": {}
      },
      "source": [
        "# if Uploaded is not None:\n",
        "#   img = Image.open(Uploaded)\n",
        "#   st.image(img, caption='This is you uploaded picture', use_column_width=True)\n",
        "#   pred,pred_idx,probs = inf.predict(img)\n",
        "#     if pred =='Schefflera':\n",
        "#         lbl_pred.value = f'هذه شوفليرة'\\\n",
        "#         f' \\n بتول واثقة بنسبة {probs[pred_idx]:.2%} فقط'\\\n",
        "#         f' \\n Prediction: {pred}; Probability: {probs[pred_idx]:.02%}'\n",
        "#     elif pred =='Dieffenbachia':\n",
        "#         lbl_pred.value = f'هذه الدفنباخية'\\\n",
        "#         f' \\n بتول واثقة بنسبة {probs[pred_idx]:.2%} فقط'\\\n",
        "#         f' \\n Prediction: {pred}; Probability: {probs[pred_idx]:.02%}'\n",
        "#     elif pred =='Dracaena':\n",
        "#         lbl_pred.value = f'هذه دراسينيا'\\\n",
        "#         f' \\n بتول واثقة بنسبة {probs[pred_idx]:.2%} فقط'\\\n",
        "#         f' \\n Prediction: {pred}; Probability: {probs[pred_idx]:.02%}'\n",
        "#     else:\n",
        "#         lbl_pred.value = f'هذه بوتس'\\\n",
        "#         f' \\n بتول واثقة بنسبة {probs[pred_idx]:.2%} فقط'\\\n",
        "#         f' \\n Prediction: {pred}; Probability: {probs[pred_idx]:.02%}'\n"
      ],
      "execution_count": null,
      "outputs": []
    },
    {
      "cell_type": "code",
      "metadata": {
        "id": "px3kohpqpJC1",
        "colab_type": "code",
        "colab": {}
      },
      "source": [
        "if Uploaded is not None:\n",
        "  img = Image.open(Uploaded)\n",
        "  st.image(img, caption='This is you uploaded picture', use_column_width=True)\n",
        "  st.write(\"\")\n",
        "  st.write(\"Classifying...\")\n",
        "  pred,pred_idx,probs = model.predict(img)\n",
        "  st.write(\"Prediction: \", pred, \"; Probability: \", probs[pred_idx])"
      ],
      "execution_count": 13,
      "outputs": []
    },
    {
      "cell_type": "code",
      "metadata": {
        "id": "EhHddQBs4Un2",
        "colab_type": "code",
        "colab": {
          "base_uri": "https://localhost:8080/",
          "height": 63
        },
        "outputId": "9d413ebc-f9fd-424b-b745-b939621a22b2"
      },
      "source": [
        "!nohup streamlit run stramlit_app.py"
      ],
      "execution_count": null,
      "outputs": [
        {
          "output_type": "stream",
          "text": [
            "nohup: ignoring input and appending output to 'nohup.out'\n"
          ],
          "name": "stdout"
        }
      ]
    },
    {
      "cell_type": "code",
      "metadata": {
        "id": "QCaG3YON4UzN",
        "colab_type": "code",
        "colab": {}
      },
      "source": [
        "url = ngrok.connect(port=8888)"
      ],
      "execution_count": null,
      "outputs": []
    },
    {
      "cell_type": "code",
      "metadata": {
        "id": "F-z-NYXr42yI",
        "colab_type": "code",
        "colab": {}
      },
      "source": [
        "!cat nohup.out"
      ],
      "execution_count": null,
      "outputs": []
    }
  ]
}