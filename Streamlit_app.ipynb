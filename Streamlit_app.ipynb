{
  "nbformat": 4,
  "nbformat_minor": 0,
  "metadata": {
    "colab": {
      "name": "Streamlit app.ipynb",
      "provenance": [],
      "authorship_tag": "ABX9TyN/C8JpGBw/eWNm02E3B+Sq",
      "include_colab_link": true
    },
    "kernelspec": {
      "name": "python3",
      "display_name": "Python 3"
    },
    "accelerator": "GPU"
  },
  "cells": [
    {
      "cell_type": "markdown",
      "metadata": {
        "id": "view-in-github",
        "colab_type": "text"
      },
      "source": [
        "<a href=\"https://colab.research.google.com/github/BatoolMM/PlantAI/blob/master/Streamlit_app.ipynb\" target=\"_parent\"><img src=\"https://colab.research.google.com/assets/colab-badge.svg\" alt=\"Open In Colab\"/></a>"
      ]
    },
    {
      "cell_type": "code",
      "metadata": {
        "id": "nEL0Iz24PW7o",
        "colab_type": "code",
        "colab": {}
      },
      "source": [
        "!pip install -U ipykernel==5.1.2\n",
        "!pip install pyngrok \n",
        "!ngrok authtoken 1hvRf0LvwuAI0SoCfB5J0Cnz02c_qY8Pfk5HRkxqgZ8UFHdg\n",
        "!pip install -Uqq fastbook\n",
        "!pip install fastcore==1.0.9\n",
        "!pip install utils\n",
        "!pip install virtualbox\n",
        "!pip install -q streamlit"
      ],
      "execution_count": null,
      "outputs": []
    },
    {
      "cell_type": "code",
      "metadata": {
        "id": "hE-bSivWfXWt",
        "colab_type": "code",
        "colab": {}
      },
      "source": [
        "!pip install streamlit-theme"
      ],
      "execution_count": null,
      "outputs": []
    },
    {
      "cell_type": "code",
      "metadata": {
        "id": "nh9gO8YKb4jV",
        "colab_type": "code",
        "colab": {
          "base_uri": "https://localhost:8080/",
          "height": 34
        },
        "outputId": "9e335014-a77a-40d7-ff44-8918ad09b3ba"
      },
      "source": [
        "%%writefile stramlit_app.py\n",
        "\n",
        "from google.colab import drive\n",
        "from fastai.vision.all import *\n",
        "from fastai.vision.widgets import *\n",
        "from IPython.display import Image\n",
        "import virtualbox\n",
        "from ipywidgets import * \n",
        "from PIL import Image\n",
        "import streamlit as st\n",
        "from pyngrok import ngrok\n",
        "import streamlit_theme as stt\n",
        "\n",
        "\n",
        "path = Path()\n",
        "stt.set_theme({'primary': '#1b3388'})\n",
        "st.set_option('deprecation.showfileUploaderEncoding', False)\n",
        "st.title(\"PlantAI\")\n",
        "st.write('''\n",
        "  ---\n",
        "  ## **Which Plant is This**?\n",
        "   This is simple Web application to classify the type of the plants I have in my home and provide instruction of taking care of it.\n",
        "  ### Please ask me anything!  \n",
        "''')\n",
        "Uploaded = st.file_uploader('', type=['png','jpg','jpeg'])\n",
        "\n",
        "with st.spinner('Loading your picture into memory'):\n",
        "  model = load_learner('/content/export.pkl')\n",
        "  time.sleep(1)\n",
        "\n",
        "if Uploaded is not None:\n",
        "    img = Image.open(Uploaded)\n",
        "    img_fastai = PILImage.create(Uploaded)\n",
        "    st.image(img, caption='This is your uploaded picture', use_column_width=True)\n",
        "    st.write(\"\")\n",
        "    st.write(\"Classifying...\")\n",
        "    pred,pred_idx,probs = model.predict(img_fastai)\n",
        "    st.write(\"Prediction: \", pred, \"; Probability: \", probs[pred_idx]*100,'%')\n"
      ],
      "execution_count": 57,
      "outputs": [
        {
          "output_type": "stream",
          "text": [
            "Overwriting stramlit_app.py\n"
          ],
          "name": "stdout"
        }
      ]
    },
    {
      "cell_type": "code",
      "metadata": {
        "id": "zBNrAlFQzs1D",
        "colab_type": "code",
        "colab": {}
      },
      "source": [
        "drive.mount('/content/drive')"
      ],
      "execution_count": null,
      "outputs": []
    },
    {
      "cell_type": "code",
      "metadata": {
        "id": "7u4bb_FRb5FL",
        "colab_type": "code",
        "colab": {}
      },
      "source": [
        "# if Uploaded is not None:\n",
        "#@st.cache(allow_output_mutation=True)\n",
        "\n",
        "#   img = Image.open(Uploaded)\n",
        "#   st.image(img, caption='This is you uploaded picture', use_column_width=True)\n",
        "#   pred,pred_idx,probs = inf.predict(img)\n",
        "#     if pred =='Schefflera':\n",
        "#         lbl_pred.value = f'هذه شوفليرة'\\\n",
        "#         f' \\n بتول واثقة بنسبة {probs[pred_idx]:.2%} فقط'\\\n",
        "#         f' \\n Prediction: {pred}; Probability: {probs[pred_idx]:.02%}'\n",
        "#     elif pred =='Dieffenbachia':\n",
        "#         lbl_pred.value = f'هذه الدفنباخية'\\\n",
        "#         f' \\n بتول واثقة بنسبة {probs[pred_idx]:.2%} فقط'\\\n",
        "#         f' \\n Prediction: {pred}; Probability: {probs[pred_idx]:.02%}'\n",
        "#     elif pred =='Dracaena':\n",
        "#         lbl_pred.value = f'هذه دراسينيا'\\\n",
        "#         f' \\n بتول واثقة بنسبة {probs[pred_idx]:.2%} فقط'\\\n",
        "#         f' \\n Prediction: {pred}; Probability: {probs[pred_idx]:.02%}'\n",
        "#     else:\n",
        "#         lbl_pred.value = f'هذه بوتس'\\\n",
        "#         f' \\n بتول واثقة بنسبة {probs[pred_idx]:.2%} فقط'\\\n",
        "#         f' \\n Prediction: {pred}; Probability: {probs[pred_idx]:.02%}'\n"
      ],
      "execution_count": null,
      "outputs": []
    },
    {
      "cell_type": "code",
      "metadata": {
        "id": "EhHddQBs4Un2",
        "colab_type": "code",
        "colab": {
          "base_uri": "https://localhost:8080/",
          "height": 34
        },
        "outputId": "8a4d7cdb-808b-4996-a691-6c163c8d890a"
      },
      "source": [
        "!nohup streamlit run stramlit_app.py &"
      ],
      "execution_count": 29,
      "outputs": [
        {
          "output_type": "stream",
          "text": [
            "nohup: appending output to 'nohup.out'\n"
          ],
          "name": "stdout"
        }
      ]
    },
    {
      "cell_type": "code",
      "metadata": {
        "id": "QCaG3YON4UzN",
        "colab_type": "code",
        "colab": {}
      },
      "source": [
        "url = ngrok.connect(port=8502)\n"
      ],
      "execution_count": null,
      "outputs": []
    },
    {
      "cell_type": "code",
      "metadata": {
        "id": "F-z-NYXr42yI",
        "colab_type": "code",
        "colab": {
          "base_uri": "https://localhost:8080/",
          "height": 35
        },
        "outputId": "fb4d18ef-c527-4978-b8b5-a3a770fb2873"
      },
      "source": [
        "url"
      ],
      "execution_count": 32,
      "outputs": [
        {
          "output_type": "execute_result",
          "data": {
            "application/vnd.google.colaboratory.intrinsic+json": {
              "type": "string"
            },
            "text/plain": [
              "'http://f4946e491005.ngrok.io'"
            ]
          },
          "metadata": {
            "tags": []
          },
          "execution_count": 32
        }
      ]
    },
    {
      "cell_type": "code",
      "metadata": {
        "id": "j6GWYnl_8BjL",
        "colab_type": "code",
        "colab": {}
      },
      "source": [
        "!cat nohup.out"
      ],
      "execution_count": null,
      "outputs": []
    }
  ]
}