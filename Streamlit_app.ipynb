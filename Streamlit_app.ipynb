{
  "nbformat": 4,
  "nbformat_minor": 0,
  "metadata": {
    "colab": {
      "name": "Streamlit_app.ipynb",
      "provenance": [],
      "authorship_tag": "ABX9TyOZJAv+SVtUWQyxUs7OvJcC",
      "include_colab_link": true
    },
    "kernelspec": {
      "name": "python3",
      "display_name": "Python 3"
    },
    "accelerator": "GPU"
  },
  "cells": [
    {
      "cell_type": "markdown",
      "metadata": {
        "id": "view-in-github",
        "colab_type": "text"
      },
      "source": [
        "<a href=\"https://colab.research.google.com/github/BatoolMM/PlantAI/blob/master/Streamlit_app.ipynb\" target=\"_parent\"><img src=\"https://colab.research.google.com/assets/colab-badge.svg\" alt=\"Open In Colab\"/></a>"
      ]
    },
    {
      "cell_type": "code",
      "metadata": {
        "id": "nEL0Iz24PW7o"
      },
      "source": [
        "!pip install -U ipykernel==5.1.2\n",
        "!pip install pyngrok \n",
        "!ngrok authtoken 1hvRf0LvwuAI0SoCfB5J0Cnz02c_qY8Pfk5HRkxqgZ8UFHdg\n",
        "!pip install -Uqq fastbook\n",
        "!pip install fastcore==1.0.9\n",
        "!pip install utils\n",
        "!pip install virtualbox\n",
        "!pip install -q streamlit\n"
      ],
      "execution_count": null,
      "outputs": []
    },
    {
      "cell_type": "code",
      "metadata": {
        "id": "WwKGFkA0XpA6",
        "outputId": "3d3873a1-1ab3-4876-a983-ec5e415f4987",
        "colab": {
          "base_uri": "https://localhost:8080/",
          "height": 190
        }
      },
      "source": [
        "!pip install wget"
      ],
      "execution_count": 28,
      "outputs": [
        {
          "output_type": "stream",
          "text": [
            "Collecting wget\n",
            "  Downloading https://files.pythonhosted.org/packages/47/6a/62e288da7bcda82b935ff0c6cfe542970f04e29c756b0e147251b2fb251f/wget-3.2.zip\n",
            "Building wheels for collected packages: wget\n",
            "  Building wheel for wget (setup.py) ... \u001b[?25l\u001b[?25hdone\n",
            "  Created wheel for wget: filename=wget-3.2-cp36-none-any.whl size=9682 sha256=267177beb8edb05a384cc293a04faf50f41d92d39696ac065ac334b9c2a0b665\n",
            "  Stored in directory: /root/.cache/pip/wheels/40/15/30/7d8f7cea2902b4db79e3fea550d7d7b85ecb27ef992b618f3f\n",
            "Successfully built wget\n",
            "Installing collected packages: wget\n",
            "Successfully installed wget-3.2\n"
          ],
          "name": "stdout"
        }
      ]
    },
    {
      "cell_type": "code",
      "metadata": {
        "id": "nh9gO8YKb4jV",
        "outputId": "2430467a-2ceb-416a-b56f-ff911723494c",
        "colab": {
          "base_uri": "https://localhost:8080/",
          "height": 34
        }
      },
      "source": [
        "%%writefile app.py\n",
        "\n",
        "from fastai.vision.all import *\n",
        "from fastai.vision.widgets import *\n",
        "from IPython.display import Image\n",
        "from ipywidgets import * \n",
        "from PIL import Image\n",
        "import streamlit as st\n",
        "from pyngrok import ngrok\n",
        "import urllib.request\n",
        "import wget\n",
        "import numpy\n",
        "\n",
        "path = Path()\n",
        "st.set_option('deprecation.showfileUploaderEncoding', False)\n",
        "st.title(\"PlantAI\")\n",
        "st.write(\n",
        "  '''\n",
        "  ---\n",
        "  ## **Which Plant is This**?\n",
        "   This is simple Web application to classify four type of plants:\n",
        "   **Schefflera**, \n",
        "   **Epipremnum aureum**,\n",
        "   **Dieffenbachia**,\n",
        "   **Dracaena**.\n",
        "'''\n",
        ")\n",
        "st.image('https://dl.dropboxusercontent.com/s/2873nwxz55lrozc/plants.jpg?dl=0', use_column_width=True)\n",
        "st.write('''\n",
        "  ### Please upload a picture for one of these plants!  \n",
        "''')\n",
        "Uploaded = st.file_uploader('', type=['png','jpg','jpeg'])\n",
        "\n",
        "with st.spinner('Loading your picture into memory'):\n",
        "  url = wget.download('https://dl.dropboxusercontent.com/s/uahengnua8m3hbu/export.pkl?dl=0')\n",
        "  model = load_learner(url)\n",
        "  time.sleep(1)\n",
        "\n",
        "if Uploaded is not None:\n",
        "    img = Image.open(Uploaded)\n",
        "    img_fastai = PILImage.create(Uploaded)\n",
        "    st.image(img, caption='This is your uploaded picture', use_column_width=True)\n",
        "    st.write(\"\")\n",
        "    st.write(\"Classifying...\")\n",
        "    pred,pred_idx,probs = model.predict(img_fastai)\n",
        "    probability = probs[pred_idx]*100\n",
        "    st.write(\"Prediction: \", pred, \"; Probability: \", probability,'%  :sunglasses:')\n"
      ],
      "execution_count": 38,
      "outputs": [
        {
          "output_type": "stream",
          "text": [
            "Overwriting app.py\n"
          ],
          "name": "stdout"
        }
      ]
    },
    {
      "cell_type": "code",
      "metadata": {
        "id": "zBNrAlFQzs1D",
        "outputId": "e803081d-0e07-47ec-bbe0-c723f7d9a2fc",
        "colab": {
          "base_uri": "https://localhost:8080/",
          "height": 34
        }
      },
      "source": [
        "from google.colab import drive\n",
        "drive.mount('/content/drive')"
      ],
      "execution_count": null,
      "outputs": [
        {
          "output_type": "stream",
          "text": [
            "Mounted at /content/drive\n"
          ],
          "name": "stdout"
        }
      ]
    },
    {
      "cell_type": "code",
      "metadata": {
        "id": "7u4bb_FRb5FL"
      },
      "source": [
        "# if Uploaded is not None:\n",
        "#@st.cache(allow_output_mutation=True)\n",
        "\n",
        "#   img = Image.open(Uploaded)\n",
        "#   st.image(img, caption='This is you uploaded picture', use_column_width=True)\n",
        "#   pred,pred_idx,probs = inf.predict(img)\n",
        "#     if pred =='Schefflera':\n",
        "#         lbl_pred.value = f'هذه شوفليرة'\\\n",
        "#         f' \\n بتول واثقة بنسبة {probs[pred_idx]:.2%} فقط'\\\n",
        "#         f' \\n Prediction: {pred}; Probability: {probs[pred_idx]:.02%}'\n",
        "#     elif pred =='Dieffenbachia':\n",
        "#         lbl_pred.value = f'هذه الدفنباخية'\\\n",
        "#         f' \\n بتول واثقة بنسبة {probs[pred_idx]:.2%} فقط'\\\n",
        "#         f' \\n Prediction: {pred}; Probability: {probs[pred_idx]:.02%}'\n",
        "#     elif pred =='Dracaena':\n",
        "#         lbl_pred.value = f'هذه دراسينيا'\\\n",
        "#         f' \\n بتول واثقة بنسبة {probs[pred_idx]:.2%} فقط'\\\n",
        "#         f' \\n Prediction: {pred}; Probability: {probs[pred_idx]:.02%}'\n",
        "#     else:\n",
        "#         lbl_pred.value = f'هذه بوتس'\\\n",
        "#         f' \\n بتول واثقة بنسبة {probs[pred_idx]:.2%} فقط'\\\n",
        "#         f' \\n Prediction: {pred}; Probability: {probs[pred_idx]:.02%}'\n"
      ],
      "execution_count": null,
      "outputs": []
    },
    {
      "cell_type": "code",
      "metadata": {
        "id": "EhHddQBs4Un2",
        "outputId": "1d8c691d-6f7b-4f16-9245-e03132d6dc9f",
        "colab": {
          "base_uri": "https://localhost:8080/",
          "height": 34
        }
      },
      "source": [
        "!nohup streamlit run app.py &"
      ],
      "execution_count": null,
      "outputs": [
        {
          "output_type": "stream",
          "text": [
            "nohup: appending output to 'nohup.out'\n"
          ],
          "name": "stdout"
        }
      ]
    },
    {
      "cell_type": "code",
      "metadata": {
        "id": "QCaG3YON4UzN"
      },
      "source": [
        "from pyngrok import ngrok\n",
        "url = ngrok.connect(port=8501)"
      ],
      "execution_count": null,
      "outputs": []
    },
    {
      "cell_type": "code",
      "metadata": {
        "id": "F-z-NYXr42yI",
        "outputId": "1a57cb4d-1f03-45d1-c1d0-50eede6453bc",
        "colab": {
          "base_uri": "https://localhost:8080/",
          "height": 35
        }
      },
      "source": [
        "url"
      ],
      "execution_count": null,
      "outputs": [
        {
          "output_type": "execute_result",
          "data": {
            "application/vnd.google.colaboratory.intrinsic+json": {
              "type": "string"
            },
            "text/plain": [
              "'http://e5ecd45a01e7.ngrok.io'"
            ]
          },
          "metadata": {
            "tags": []
          },
          "execution_count": 10
        }
      ]
    },
    {
      "cell_type": "code",
      "metadata": {
        "id": "j6GWYnl_8BjL"
      },
      "source": [
        "!cat nohup.out"
      ],
      "execution_count": null,
      "outputs": []
    },
    {
      "cell_type": "code",
      "metadata": {
        "id": "I2IFKyPz1RWL"
      },
      "source": [
        "!pip freeze > requirements.txt"
      ],
      "execution_count": 40,
      "outputs": []
    },
    {
      "cell_type": "code",
      "metadata": {
        "id": "mdHguL4l1mPM"
      },
      "source": [
        "!cat requirements.txt"
      ],
      "execution_count": null,
      "outputs": []
    },
    {
      "cell_type": "code",
      "metadata": {
        "id": "yTIrWrPj16zF",
        "outputId": "08d4ef1f-1ea1-4478-db11-34855218e903",
        "colab": {
          "base_uri": "https://localhost:8080/",
          "height": 34
        }
      },
      "source": [
        "%%writefile Procfile\n",
        "web: streamlit run --server.enableCORS false --server.port $PORT app.py\n"
      ],
      "execution_count": null,
      "outputs": [
        {
          "output_type": "stream",
          "text": [
            "Writing Procfile\n"
          ],
          "name": "stdout"
        }
      ]
    }
  ]
}