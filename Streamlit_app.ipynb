{
  "nbformat": 4,
  "nbformat_minor": 0,
  "metadata": {
    "colab": {
      "name": "Streamlit app.ipynb",
      "provenance": [],
      "authorship_tag": "ABX9TyMvdtKj+JW12LuYqjhqL2yt",
      "include_colab_link": true
    },
    "kernelspec": {
      "name": "python3",
      "display_name": "Python 3"
    }
  },
  "cells": [
    {
      "cell_type": "markdown",
      "metadata": {
        "id": "view-in-github",
        "colab_type": "text"
      },
      "source": [
        "<a href=\"https://colab.research.google.com/github/BatoolMM/PlantAI/blob/master/Streamlit_app.ipynb\" target=\"_parent\"><img src=\"https://colab.research.google.com/assets/colab-badge.svg\" alt=\"Open In Colab\"/></a>"
      ]
    },
    {
      "cell_type": "code",
      "metadata": {
        "id": "nEL0Iz24PW7o",
        "colab_type": "code",
        "colab": {}
      },
      "source": [
        "!pip install -U ipykernel \n",
        "!pip install -q streamlit\n",
        "!pip install pyngrok \n",
        "!ngrok authtoken 1hvRf0LvwuAI0SoCfB5J0Cnz02c_qY8Pfk5HRkxqgZ8UFHdg\n",
        "!pip install -Uqq fastbook\n",
        "!pip install fastcore==1.0.9\n",
        "!pip install utils\n",
        "!pip install virtualbox"
      ],
      "execution_count": null,
      "outputs": []
    },
    {
      "cell_type": "code",
      "metadata": {
        "id": "nh9gO8YKb4jV",
        "colab_type": "code",
        "colab": {}
      },
      "source": [
        "%%write stramlit_app.py\n",
        "from google.colab import drive\n",
        "from fastai.vision.all import *\n",
        "from fastai.vision.widgets import *\n",
        "from IPython.display import Image\n",
        "import virtualbox\n",
        "from ipywidgets import * \n",
        "from PIL import Image\n",
        "import streamlit as st"
      ],
      "execution_count": 2,
      "outputs": []
    },
    {
      "cell_type": "code",
      "metadata": {
        "id": "I7WERKSKb40x",
        "colab_type": "code",
        "colab": {}
      },
      "source": [
        "drive.mount('/content/drive')"
      ],
      "execution_count": null,
      "outputs": []
    },
    {
      "cell_type": "code",
      "metadata": {
        "id": "fGTklmPIb48m",
        "colab_type": "code",
        "colab": {}
      },
      "source": [
        "path = Path()\n",
        "model = load_learner('/content/export.pkl')"
      ],
      "execution_count": null,
      "outputs": []
    },
    {
      "cell_type": "code",
      "metadata": {
        "id": "AFk7kyLob5AO",
        "colab_type": "code",
        "colab": {}
      },
      "source": [
        "st.title('PlabtAI')\n",
        "st.write('''\n",
        "  ## Which Plant is This?\n",
        "  ### This is simple Web application to classify the type of the plants I have in my home and provide instruction of taking care of it.\n",
        "  ### Ask me anything!  \n",
        "''')"
      ],
      "execution_count": null,
      "outputs": []
    },
    {
      "cell_type": "code",
      "metadata": {
        "id": "Pu3VDanTb5Hv",
        "colab_type": "code",
        "colab": {}
      },
      "source": [
        "Uploaded = st.file_uploader('Ask me about any plant you have?', type=['png','jpg'])\n"
      ],
      "execution_count": null,
      "outputs": []
    },
    {
      "cell_type": "code",
      "metadata": {
        "id": "7u4bb_FRb5FL",
        "colab_type": "code",
        "colab": {}
      },
      "source": [
        "if Uploaded is not None:\n",
        "  img = Image.open(Uploaded)\n",
        "  st.image(img, caption='This is you uploaded picture', use_column_width=True)\n",
        "  pred,pred_idx,probs = inf.predict(img)\n",
        "    if pred =='Schefflera':\n",
        "        lbl_pred.value = f'هذه شوفليرة'\\\n",
        "        f' \\n بتول واثقة بنسبة {probs[pred_idx]:.2%} فقط'\\\n",
        "        f' \\n Prediction: {pred}; Probability: {probs[pred_idx]:.02%}'\n",
        "    elif pred =='Dieffenbachia':\n",
        "        lbl_pred.value = f'هذه الدفنباخية'\\\n",
        "        f' \\n بتول واثقة بنسبة {probs[pred_idx]:.2%} فقط'\\\n",
        "        f' \\n Prediction: {pred}; Probability: {probs[pred_idx]:.02%}'\n",
        "    elif pred =='Dracaena':\n",
        "        lbl_pred.value = f'هذه دراسينيا'\\\n",
        "        f' \\n بتول واثقة بنسبة {probs[pred_idx]:.2%} فقط'\\\n",
        "        f' \\n Prediction: {pred}; Probability: {probs[pred_idx]:.02%}'\n",
        "    else:\n",
        "        lbl_pred.value = f'هذه بوتس'\\\n",
        "        f' \\n بتول واثقة بنسبة {probs[pred_idx]:.2%} فقط'\\\n",
        "        f' \\n Prediction: {pred}; Probability: {probs[pred_idx]:.02%}'\n"
      ],
      "execution_count": null,
      "outputs": []
    },
    {
      "cell_type": "code",
      "metadata": {
        "id": "px3kohpqpJC1",
        "colab_type": "code",
        "colab": {}
      },
      "source": [
        ""
      ],
      "execution_count": null,
      "outputs": []
    }
  ]
}