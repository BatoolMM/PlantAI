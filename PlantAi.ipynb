{
  "nbformat": 4,
  "nbformat_minor": 0,
  "metadata": {
    "colab": {
      "name": "PlantAi.ipynb",
      "provenance": [],
      "authorship_tag": "ABX9TyPuYAzf156QwmtDqxN7CkLl",
      "include_colab_link": true
    },
    "kernelspec": {
      "name": "python3",
      "display_name": "Python 3"
    },
    "accelerator": "GPU"
  },
  "cells": [
    {
      "cell_type": "markdown",
      "metadata": {
        "id": "view-in-github",
        "colab_type": "text"
      },
      "source": [
        "<a href=\"https://colab.research.google.com/github/BatoolMM/PlantAI/blob/master/PlantAi.ipynb\" target=\"_parent\"><img src=\"https://colab.research.google.com/assets/colab-badge.svg\" alt=\"Open In Colab\"/></a>"
      ]
    },
    {
      "cell_type": "code",
      "metadata": {
        "id": "gFjRypJ6oS0O",
        "colab_type": "code",
        "colab": {
          "base_uri": "https://localhost:8080/",
          "height": 677
        },
        "outputId": "c5dc8c3b-83bf-462f-9ee0-17cf613f5857"
      },
      "source": [
        "#hide\n",
        "!pip install -Uqq fastbook\n",
        "!pip install fastcore==1.0.9\n",
        "!pip install utils\n",
        "fastbook.setup_book()\n",
        "!pip install azure-cognitiveservices-search-imagesearch"
      ],
      "execution_count": 1,
      "outputs": [
        {
          "output_type": "stream",
          "text": [
            "\u001b[K     |████████████████████████████████| 727kB 4.4MB/s \n",
            "\u001b[K     |████████████████████████████████| 1.0MB 12.9MB/s \n",
            "\u001b[K     |████████████████████████████████| 358kB 23.6MB/s \n",
            "\u001b[K     |████████████████████████████████| 61kB 8.8MB/s \n",
            "\u001b[K     |████████████████████████████████| 51kB 8.0MB/s \n",
            "\u001b[K     |████████████████████████████████| 40kB 3.9MB/s \n",
            "\u001b[K     |████████████████████████████████| 40kB 6.9MB/s \n",
            "\u001b[K     |████████████████████████████████| 92kB 10.9MB/s \n",
            "\u001b[K     |████████████████████████████████| 61kB 9.2MB/s \n",
            "\u001b[K     |████████████████████████████████| 51kB 6.6MB/s \n",
            "\u001b[K     |████████████████████████████████| 2.6MB 23.0MB/s \n",
            "\u001b[?25hCollecting fastcore==1.0.9\n",
            "  Downloading https://files.pythonhosted.org/packages/ca/f6/fe20bfa7d818104f940da81a60e7532090fd87c31f90d4c3b8ae2823d28a/fastcore-1.0.9-py3-none-any.whl\n",
            "Requirement already satisfied: packaging in /usr/local/lib/python3.6/dist-packages (from fastcore==1.0.9) (20.4)\n",
            "Requirement already satisfied: pip in /usr/local/lib/python3.6/dist-packages (from fastcore==1.0.9) (19.3.1)\n",
            "Requirement already satisfied: six in /usr/local/lib/python3.6/dist-packages (from packaging->fastcore==1.0.9) (1.15.0)\n",
            "Requirement already satisfied: pyparsing>=2.0.2 in /usr/local/lib/python3.6/dist-packages (from packaging->fastcore==1.0.9) (2.4.7)\n",
            "Installing collected packages: fastcore\n",
            "  Found existing installation: fastcore 1.0.13\n",
            "    Uninstalling fastcore-1.0.13:\n",
            "      Successfully uninstalled fastcore-1.0.13\n",
            "Successfully installed fastcore-1.0.9\n",
            "Collecting utils\n",
            "  Downloading https://files.pythonhosted.org/packages/55/e6/c2d2b2703e7debc8b501caae0e6f7ead148fd0faa3c8131292a599930029/utils-1.0.1-py2.py3-none-any.whl\n",
            "Installing collected packages: utils\n",
            "Successfully installed utils-1.0.1\n"
          ],
          "name": "stdout"
        },
        {
          "output_type": "error",
          "ename": "NameError",
          "evalue": "ignored",
          "traceback": [
            "\u001b[0;31m---------------------------------------------------------------------------\u001b[0m",
            "\u001b[0;31mNameError\u001b[0m                                 Traceback (most recent call last)",
            "\u001b[0;32m<ipython-input-1-72d50d69309b>\u001b[0m in \u001b[0;36m<module>\u001b[0;34m()\u001b[0m\n\u001b[1;32m      3\u001b[0m \u001b[0mget_ipython\u001b[0m\u001b[0;34m(\u001b[0m\u001b[0;34m)\u001b[0m\u001b[0;34m.\u001b[0m\u001b[0msystem\u001b[0m\u001b[0;34m(\u001b[0m\u001b[0;34m'pip install fastcore==1.0.9'\u001b[0m\u001b[0;34m)\u001b[0m\u001b[0;34m\u001b[0m\u001b[0;34m\u001b[0m\u001b[0m\n\u001b[1;32m      4\u001b[0m \u001b[0mget_ipython\u001b[0m\u001b[0;34m(\u001b[0m\u001b[0;34m)\u001b[0m\u001b[0;34m.\u001b[0m\u001b[0msystem\u001b[0m\u001b[0;34m(\u001b[0m\u001b[0;34m'pip install utils'\u001b[0m\u001b[0;34m)\u001b[0m\u001b[0;34m\u001b[0m\u001b[0;34m\u001b[0m\u001b[0m\n\u001b[0;32m----> 5\u001b[0;31m \u001b[0mfastbook\u001b[0m\u001b[0;34m.\u001b[0m\u001b[0msetup_book\u001b[0m\u001b[0;34m(\u001b[0m\u001b[0;34m)\u001b[0m\u001b[0;34m\u001b[0m\u001b[0;34m\u001b[0m\u001b[0m\n\u001b[0m\u001b[1;32m      6\u001b[0m \u001b[0mget_ipython\u001b[0m\u001b[0;34m(\u001b[0m\u001b[0;34m)\u001b[0m\u001b[0;34m.\u001b[0m\u001b[0msystem\u001b[0m\u001b[0;34m(\u001b[0m\u001b[0;34m'pip install azure-cognitiveservices-search-imagesearch'\u001b[0m\u001b[0;34m)\u001b[0m\u001b[0;34m\u001b[0m\u001b[0;34m\u001b[0m\u001b[0m\n",
            "\u001b[0;31mNameError\u001b[0m: name 'fastbook' is not defined"
          ]
        }
      ]
    },
    {
      "cell_type": "code",
      "metadata": {
        "id": "nFNjwCCQocrG",
        "colab_type": "code",
        "colab": {}
      },
      "source": [
        "from fastbook import *\n",
        "from fastai.vision.all import *\n",
        "from fastai.vision.widgets import ImageClassifierCleaner\n",
        "from utils import *\n",
        "import os\n",
        "from azure.cognitiveservices.search.imagesearch import ImageSearchClient as api\n",
        "from msrest.authentication import CognitiveServicesCredentials as auth\n"
      ],
      "execution_count": null,
      "outputs": []
    },
    {
      "cell_type": "code",
      "metadata": {
        "id": "qkPqZfHloc6b",
        "colab_type": "code",
        "colab": {}
      },
      "source": [
        "def search_images_bing(key, term, min_sz=128):\n",
        "    client = api('https://api.cognitive.microsoft.com', auth(key))\n",
        "    return L(client.images.search(query=term, count=150, min_height=min_sz, min_width=min_sz).value)\n",
        "key = '8d86a0d22d7643549e560f18abfe8fde'\n",
        "key2 ='d5851efce83544c6a29b96a7341f28dd'"
      ],
      "execution_count": null,
      "outputs": []
    },
    {
      "cell_type": "code",
      "metadata": {
        "id": "dMDXaxg5odFI",
        "colab_type": "code",
        "colab": {}
      },
      "source": [
        "plants_type = 'Dieffenbachia', 'Schefflera', 'Dracaena', 'Epipremnum aureum'\n",
        "path = Path('plants_new')\n",
        "\n",
        "if not path.exists():\n",
        "    path.mkdir()\n",
        "    for o in plants_type:\n",
        "      dest = (path/o)\n",
        "      dest.mkdir(exist_ok =True)\n",
        "      results = search_images_bing(key, f'{o} plant')\n",
        "      download_images(dest, urls = results.attrgot('content_url'))"
      ],
      "execution_count": null,
      "outputs": []
    },
    {
      "cell_type": "code",
      "metadata": {
        "id": "qGz63AFeodMf",
        "colab_type": "code",
        "colab": {}
      },
      "source": [
        "files = get_image_files(path)\n",
        "files"
      ],
      "execution_count": null,
      "outputs": []
    },
    {
      "cell_type": "code",
      "metadata": {
        "id": "dS07WVOyodTm",
        "colab_type": "code",
        "colab": {}
      },
      "source": [
        "failed = verify_images(files)\n",
        "failed"
      ],
      "execution_count": null,
      "outputs": []
    },
    {
      "cell_type": "code",
      "metadata": {
        "id": "-1nL7SBIoda9",
        "colab_type": "code",
        "colab": {}
      },
      "source": [
        "failed.map(Path.unlink)"
      ],
      "execution_count": null,
      "outputs": []
    },
    {
      "cell_type": "code",
      "metadata": {
        "id": "oSg_p-iBodhx",
        "colab_type": "code",
        "colab": {}
      },
      "source": [
        "data = DataBlock(\n",
        "    blocks=(ImageBlock, CategoryBlock),\n",
        "    get_items=get_image_files,\n",
        "    splitter=RandomSplitter(valid_pct=0.1, seed=42),\n",
        "    get_y=parent_label,\n",
        "    item_tfms=Resize(128))"
      ],
      "execution_count": null,
      "outputs": []
    },
    {
      "cell_type": "code",
      "metadata": {
        "id": "3U84YSpEodrN",
        "colab_type": "code",
        "colab": {}
      },
      "source": [
        "data = data.new(\n",
        "    item_tfms=RandomResizedCrop(224, min_scale=0.5),\n",
        "    batch_tfms=aug_transforms())\n",
        "\n",
        "cleaner = ImageClassifierCleaner(learn)\n",
        "cleaner"
      ],
      "execution_count": null,
      "outputs": []
    },
    {
      "cell_type": "code",
      "metadata": {
        "id": "dN0sh1UZodxp",
        "colab_type": "code",
        "colab": {}
      },
      "source": [
        "for idx in cleaner.delete():\n",
        "  cleaner.fns[idx].unlink()"
      ],
      "execution_count": null,
      "outputs": []
    },
    {
      "cell_type": "code",
      "metadata": {
        "id": "qTNBhJMHoeCl",
        "colab_type": "code",
        "colab": {}
      },
      "source": [
        "dls = data.dataloaders(path)\n",
        "learn = cnn_learner(dls, resnet34, metrics=error_rate)\n",
        "learn.fine_tune(7)"
      ],
      "execution_count": null,
      "outputs": []
    },
    {
      "cell_type": "code",
      "metadata": {
        "id": "poqx0XQIpxzM",
        "colab_type": "code",
        "colab": {}
      },
      "source": [
        "interpret = ClassificationInterpretation.from_learner(learn)\n",
        "interpret.plot_confusion_matrix()"
      ],
      "execution_count": null,
      "outputs": []
    },
    {
      "cell_type": "code",
      "metadata": {
        "id": "tWIn2ThWpx8g",
        "colab_type": "code",
        "colab": {}
      },
      "source": [
        "interpret.plot_top_losses(2,nrows=2)"
      ],
      "execution_count": null,
      "outputs": []
    },
    {
      "cell_type": "code",
      "metadata": {
        "id": "R3Vdu4fIpyD9",
        "colab_type": "code",
        "colab": {}
      },
      "source": [
        "learn.export()"
      ],
      "execution_count": null,
      "outputs": []
    },
    {
      "cell_type": "code",
      "metadata": {
        "id": "BCmwO8knpyKz",
        "colab_type": "code",
        "colab": {}
      },
      "source": [
        ""
      ],
      "execution_count": null,
      "outputs": []
    },
    {
      "cell_type": "code",
      "metadata": {
        "id": "J67fG_8kpyaB",
        "colab_type": "code",
        "colab": {}
      },
      "source": [
        ""
      ],
      "execution_count": null,
      "outputs": []
    },
    {
      "cell_type": "code",
      "metadata": {
        "id": "J_AozjILpywC",
        "colab_type": "code",
        "colab": {}
      },
      "source": [
        ""
      ],
      "execution_count": null,
      "outputs": []
    },
    {
      "cell_type": "code",
      "metadata": {
        "id": "C0AIsU73py7c",
        "colab_type": "code",
        "colab": {}
      },
      "source": [
        ""
      ],
      "execution_count": null,
      "outputs": []
    },
    {
      "cell_type": "code",
      "metadata": {
        "id": "OUiEqh9GpzDr",
        "colab_type": "code",
        "colab": {}
      },
      "source": [
        ""
      ],
      "execution_count": null,
      "outputs": []
    }
  ]
}